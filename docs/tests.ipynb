{
 "cells": [
  {
   "cell_type": "markdown",
   "metadata": {},
   "source": [
    "# Tests for the `cosmo` software package calculations/error model\n",
    "\n",
    "Here, we test the accuracy of the calculations and error model implemented within the `cosmo` software suite (<a href=''>Marquez and Tissot, 2022</a>). \n",
    "\n",
    "## 1. Monte Carlo Simulations\n",
    "\n",
    "### 1.1. Setup\n",
    "\n",
    "Here, we use the 130-135 spike combination presecribed by the `cosmo.m` function (~85%-15% of $^{130}Ba$ and $^{135}Ba$ ORNL spikes), with a 50% splitting and 50% spike proportion. "
   ]
  },
  {
   "cell_type": "code",
   "execution_count": 1,
   "metadata": {},
   "outputs": [
    {
     "name": "stdout",
     "output_type": "stream",
     "text": [
      "Welcome to the double spike toolbox.    John F. Rudge 2009-2022.\n",
      "Default parameters are stored in the global variable ISODATA.\n",
      "Type \"global ISODATA\" to access and set these parameters.\n"
     ]
    }
   ],
   "source": [
    "cd ..\n",
    "dsstartup;\n",
    "global ISODATA;"
   ]
  },
  {
   "cell_type": "code",
   "execution_count": 2,
   "metadata": {},
   "outputs": [],
   "source": [
    "% INPUT parameters\n",
    "element='Ba';\n",
    "prop=0.5;\n",
    "split=0.5;\n",
    "spike=[0.319548 0.007732 0.030946 0.194053 0.049874 0.056732 0.341114];\n",
    "cycles=40;\n",
    "\n",
    "% fractionation factors\n",
    "alpha=0.035; % equivalent to 1‰ in 138/134 Ba\n",
    "beta=1.80;   % largest instrumental frac. from Table 3 Albarede et al. (2015)"
   ]
  },
  {
   "cell_type": "markdown",
   "metadata": {},
   "source": [
    "Here, we run the `shake.m` function in order to (1) introduce the error model on the standard/unspiked measurement (by default, this is set at 0 for the original Double Spike Toolbox), and (2) modify the voltage of the sample in the error model.\n",
    "\n",
    "For this test, we choose to have 40 cycles each for both IC (unspiked) and ID (spiked) measurement, wherein the sample corresponds to ~10V beam total. This means that the IC measurement shows 10 V per integraion, while the ID measurement shows 10/(1-prop) V/integration.\n",
    "\n",
    "Below, we can calculate the equivalent sample amount (in ng) to reflect our intended measurement scenario:\n",
    "\n",
    "$$ng\\ sample = \\frac{U\\cdot t\\cdot MM_{Ba}}{e\\cdot R_{ref}\\cdot Av.}$$"
   ]
  },
  {
   "cell_type": "code",
   "execution_count": 3,
   "metadata": {},
   "outputs": [
    {
     "name": "stdout",
     "output_type": "stream",
     "text": [
      "\n",
      "ng_sample =\n",
      "\n",
      "    9.1091\n",
      "\n"
     ]
    }
   ],
   "source": [
    "% constants\n",
    "elementarycharge=1.60217646e-19;  % Coulombs\n",
    "Avn=6.0221409e+14;   % Avogadro's number (nmol^-1)\n",
    "MM=sum(ISODATA.(element).standard.*ISODATA.(element).mass); % molar mass of element\n",
    "\n",
    "U=80000; % volts\n",
    "deltat=8; % seconds\n",
    "R_ref=1e11; % ohms\n",
    "\n",
    "ng_sample=U*deltat*MM/(elementarycharge*R_ref*Avn)"
   ]
  },
  {
   "cell_type": "markdown",
   "metadata": {},
   "source": [
    "In this scenario, we are dealing with ~9 ng of Ba. This is relatively low compared to most applications (typically 30 ng in seawater, <a href=\"https://doi.org/10.1016/j.epsl.2015.07.027\">Horner et al., 2015</a>) and is thus a good example for the an application where the splitting would be an important parameter to consider. \n",
    "\n",
    "Using these parameter values, we run the shake.m functioon to setup our simulation:"
   ]
  },
  {
   "cell_type": "code",
   "execution_count": 4,
   "metadata": {},
   "outputs": [],
   "source": [
    "R = [1e11 1e11 1e11 1e11 1e11 1e11 1e11;\n",
    "     1e11 1e11 1e11 1e11 1e11 1e11 1e11];\n",
    "     \n",
    "effIC = 0.01; % ionization efficiency of the IC measurement\n",
    "effID = 0.01; % ionization efficiency of the ID measurement\n",
    "T     = 300; % temperature of the resistor/faraday cup; in Kelvin\n",
    "\n",
    "shake(element,ng_sample,[effIC effID],[cycles cycles],R,R_ref,T,deltat)"
   ]
  },
  {
   "cell_type": "markdown",
   "metadata": {},
   "source": [
    "Here, we adjust the error model for the measurement to reflect the fact that the sample represents 10V of each cycle of measurement."
   ]
  },
  {
   "cell_type": "code",
   "execution_count": 5,
   "metadata": {},
   "outputs": [
    {
     "name": "stdout",
     "output_type": "stream",
     "text": [
      "\n",
      "ans = \n",
      "\n",
      "  struct with fields:\n",
      "\n",
      "    measured: [1x1 struct]\n",
      "       spike: [1x1 struct]\n",
      "    standard: [1x1 struct]\n",
      "        V100: 80000\n",
      "\n",
      "\n",
      "ans = \n",
      "\n",
      "  struct with fields:\n",
      "\n",
      "         type: 'fixed-sample'\n",
      "    intensity: 10\n",
      "            a: [1x7 double]\n",
      "            b: [1x7 double]\n",
      "            c: [0 0 0 0 0 0 0]\n",
      "          eff: 0.0100\n",
      "       cycles: 40\n",
      "\n",
      "\n",
      "ans = \n",
      "\n",
      "  struct with fields:\n",
      "\n",
      "         type: 'fixed-sample'\n",
      "    intensity: 10\n",
      "            a: [1x7 double]\n",
      "            b: [1x7 double]\n",
      "            c: [0 0 0 0 0 0 0]\n",
      "          eff: 0.0100\n",
      "       cycles: 40\n",
      "\n"
     ]
    }
   ],
   "source": [
    "ISODATA.(element).errormodel\n",
    "ISODATA.(element).errormodel.measured\n",
    "ISODATA.(element).errormodel.standard"
   ]
  },
  {
   "cell_type": "markdown",
   "metadata": {},
   "source": [
    "We see here that indeed error model for Ba has been updated successfuly. "
   ]
  },
  {
   "cell_type": "markdown",
   "metadata": {},
   "source": [
    "### 1.2. Generating simulated beams using `monterun.m`\n",
    "\n",
    "Here, we assume that beta varies with 2RSD = 10% throughout the run. "
   ]
  },
  {
   "cell_type": "code",
   "execution_count": 6,
   "metadata": {},
   "outputs": [],
   "source": [
    "RSD = 0.05;\n",
    "beta_array = normrnd(beta,beta*RSD,1,cycles); % different beta values per cycle"
   ]
  },
  {
   "cell_type": "markdown",
   "metadata": {},
   "source": [
    "Generating the simulated measurements with the `monterun.m` included in the original Double Spike Toolbox."
   ]
  },
  {
   "cell_type": "code",
   "execution_count": 7,
   "metadata": {},
   "outputs": [],
   "source": [
    "[measuredv,standardv]=monterun(element,prop,spike,alpha,beta,cycles);"
   ]
  },
  {
   "cell_type": "markdown",
   "metadata": {},
   "source": [
    "Checking that the total beam voltages per cycle is correct"
   ]
  },
  {
   "cell_type": "code",
   "execution_count": 8,
   "metadata": {},
   "outputs": [
    {
     "name": "stdout",
     "output_type": "stream",
     "text": [
      "\n",
      "ans =\n",
      "\n",
      "   20.0000\n",
      "\n"
     ]
    }
   ],
   "source": [
    "mean(sum(measuredv,2))"
   ]
  },
  {
   "cell_type": "code",
   "execution_count": 9,
   "metadata": {},
   "outputs": [
    {
     "name": "stdout",
     "output_type": "stream",
     "text": [
      "\n",
      "ans =\n",
      "\n",
      "   10.0000\n",
      "\n"
     ]
    }
   ],
   "source": [
    "mean(sum(standardv,2))"
   ]
  },
  {
   "cell_type": "markdown",
   "metadata": {},
   "source": [
    "### 1.3. Processing the Monte Carlo simulation data\n",
    "\n",
    "#### 1.3.1. Spiked Data"
   ]
  },
  {
   "cell_type": "code",
   "execution_count": 10,
   "metadata": {},
   "outputs": [],
   "source": [
    "alphaID=[]; %alpha values calculated per cycle\n",
    "betaID=[]; %beta values calculated per cycle\n",
    "\n",
    "isoinv=[130 134 135 138];\n",
    "\n",
    "for i=1:length(measuredv)\n",
    "    out=dsinversion(element,measuredv(i,:),spike,isoinv);\n",
    "    \n",
    "    alphaID(i)=out.alpha;\n",
    "    betaID(i)=out.beta;\n",
    "end"
   ]
  },
  {
   "cell_type": "markdown",
   "metadata": {},
   "source": [
    "Checking that indeed we get the average values expected ($\\mu_{\\alpha} = 0.035$ and $\\mu_{\\beta} = 1.80$ as set in **Section 1.1**)."
   ]
  },
  {
   "cell_type": "code",
   "execution_count": 12,
   "metadata": {},
   "outputs": [
    {
     "name": "stdout",
     "output_type": "stream",
     "text": [
      "\n",
      "ans =\n",
      "\n",
      "    0.0353\n",
      "\n"
     ]
    }
   ],
   "source": [
    "mean(alphaID)"
   ]
  },
  {
   "cell_type": "code",
   "execution_count": 13,
   "metadata": {},
   "outputs": [
    {
     "name": "stdout",
     "output_type": "stream",
     "text": [
      "\n",
      "ans =\n",
      "\n",
      "    1.8006\n",
      "\n"
     ]
    }
   ],
   "source": [
    "mean(betaID)"
   ]
  },
  {
   "cell_type": "markdown",
   "metadata": {},
   "source": [
    "Next, we calculate 1SE for $\\alpha$ from these monte carlo runs:"
   ]
  },
  {
   "cell_type": "code",
   "execution_count": 14,
   "metadata": {},
   "outputs": [
    {
     "name": "stdout",
     "output_type": "stream",
     "text": [
      "\n",
      "alpha1SD =\n",
      "\n",
      "   5.9214e-04\n",
      "\n"
     ]
    }
   ],
   "source": [
    "alpha1SD = std(alphaID)/sqrt(cycles)"
   ]
  },
  {
   "cell_type": "markdown",
   "metadata": {},
   "source": [
    "Just to check, the uncertainty estimated for the spiked measurement when the covariance matrix for the standard, $V_m = 0$ (*i.e.*, no uncertainty on the standard composition) should be similar."
   ]
  },
  {
   "cell_type": "code",
   "execution_count": 15,
   "metadata": {},
   "outputs": [
    {
     "name": "stdout",
     "output_type": "stream",
     "text": [
      "\n",
      "ans =\n",
      "\n",
      "   7.0949e-04\n",
      "\n"
     ]
    }
   ],
   "source": [
    "ISODATA.(element).errormodel.standard.a=zeros(1,7);\n",
    "ISODATA.(element).errormodel.standard.b=zeros(1,7);\n",
    "errorwsplit('Ba',0.5,0.5,spike,isoinv)\n",
    "\n",
    "%returning the standard error model\n",
    "shake(element,ng_sample,[0.01 0.01],[cycles cycles],R,R_ref,300,deltat)"
   ]
  },
  {
   "cell_type": "code",
   "execution_count": 16,
   "metadata": {},
   "outputs": [],
   "source": [
    "alphaID2=[]; %alpha values calculated per cycle\n",
    "betaID2=[]; %beta values calculated per cycle\n",
    "\n",
    "isoinv=[130 134 135 138];\n",
    "\n",
    "for i=1:length(measuredv)\n",
    "    out=dsinversion(element,measuredv(i,:),spike,isoinv,standardv(i,:));\n",
    "    \n",
    "    alphaID2(i)=out.alpha;\n",
    "    betaID2(i)=out.beta;\n",
    "end"
   ]
  },
  {
   "cell_type": "code",
   "execution_count": 17,
   "metadata": {},
   "outputs": [
    {
     "name": "stdout",
     "output_type": "stream",
     "text": [
      "\n",
      "alpha1SD2 =\n",
      "\n",
      "   8.4321e-04\n",
      "\n"
     ]
    }
   ],
   "source": [
    "alpha1SD2 = std(alphaID2)/sqrt(cycles)"
   ]
  },
  {
   "cell_type": "markdown",
   "metadata": {},
   "source": [
    "In order to propagate the uncertainty from the standard into the final uncertainty on $\\alpha$, here we convert $\\sigma_{\\alpha}$ into the RSD of a ratio, which here we choose to be $^{137}Ba/^{135}Ba$. From Eq. 6 in Appendix A of Rudge et al. (2009):\n",
    "\n",
    "$$n_i=N_i\\cdot e^{\\alpha P_i}$$ \n",
    "\n",
    "The RSD for the ratio n_i would then be:\n",
    "\n",
    "$$RSD_{n_i}=P_i\\cdot \\sigma_{\\alpha}$$"
   ]
  },
  {
   "cell_type": "code",
   "execution_count": 18,
   "metadata": {},
   "outputs": [
    {
     "name": "stdout",
     "output_type": "stream",
     "text": [
      "\n",
      "RSD_75 =\n",
      "\n",
      "   8.7148e-06\n",
      "\n"
     ]
    }
   ],
   "source": [
    "ratisos = [137 135];\n",
    "ratisos = ISODATA.(element).isoindex(ratisos);\n",
    "\n",
    "P=log(ISODATA.(element).mass/ISODATA.(element).mass(ratisos(2)));\n",
    "\n",
    "RSD_75=P(ratisos(1))*alpha1SD"
   ]
  },
  {
   "cell_type": "markdown",
   "metadata": {},
   "source": [
    "This will then be combined later with the RSD of the same ratio from the standard/unspiked measurement in order to achieve the final uncertainty on $\\alpha$."
   ]
  },
  {
   "cell_type": "markdown",
   "metadata": {},
   "source": [
    "#### 1.3.2. Unspiked Data\n",
    "\n",
    "Here, we process the simulated unspiked measurement (`standardv`). Here, we choose one particular ratio for the internal normalization (`INisos` - [j k]), from which we calculate the $\\zeta$ using the following equation (Eq. 7 in <a href=https://doi.org/10.1039/C7JA00187H>Hu and Dauphas</a>: \n",
    "\n",
    "$$\\zeta = \\ln\\left(\\frac{r_{smp}^{j/k}}{R_{ref}^{j/k}}\\right)\\bigg/\\ln\\left(\\frac{m_j}{m_k}\\right)$$"
   ]
  },
  {
   "cell_type": "code",
   "execution_count": 19,
   "metadata": {},
   "outputs": [],
   "source": [
    "% Specifying internal normalization ratio and calculating this ratio per cycle\n",
    "INisos=[138 135];\n",
    "INisos=ISODATA.Ba.isoindex(INisos);\n",
    "\n",
    "% Calculating all ratios - using the same denominator as in ratisos\n",
    "R=standardv./standardv(:,INisos(2));\n",
    "\n",
    "% Calculating ratios used for internal normalization\n",
    "R_samp=standardv(:,INisos(1))./standardv(:,INisos(2));\n",
    "\n",
    "INrat_ref=ISODATA.(element).standard(INisos(1))/ISODATA.(element).standard(INisos(2)); %reference ratio\n",
    "massrat_ref=P(1,INisos(1)); %ln(m_j/m_k)\n",
    "\n",
    "% Calculating zeta\n",
    "zeta=(log(R_samp./INrat_ref))/massrat_ref;\n",
    "zeta=repmat(zeta,1,ISODATA.(element).nisos);\n",
    "\n",
    "% Matrix of P_i vals\n",
    "P_mat=repmat(P,length(R),1);\n",
    "\n",
    "% Calculating internally normalized ratios\n",
    "RIN=R.*exp(-P_mat.*zeta); "
   ]
  },
  {
   "cell_type": "markdown",
   "metadata": {},
   "source": [
    "We can now calculate the 1SE on the $^{137}Ba/^{135}Ba$ ratio for the unspiked measurement:"
   ]
  },
  {
   "cell_type": "code",
   "execution_count": 20,
   "metadata": {},
   "outputs": [
    {
     "name": "stdout",
     "output_type": "stream",
     "text": [
      "\n",
      "RSD_75Std =\n",
      "\n",
      "   7.4957e-06\n",
      "\n"
     ]
    }
   ],
   "source": [
    "Ba_75_1SD=std(RIN(:,ratisos(1)))/sqrt(cycles); %1SD\n",
    "RSD_75Std=Ba_75_1SD/mean(RIN(:,ratisos(1)))"
   ]
  },
  {
   "cell_type": "markdown",
   "metadata": {},
   "source": [
    "#### 1.3. Combining Uncertainties\n",
    "\n",
    "The $\\delta^{\\prime}_{137/135}$ value is defined as:\n",
    "\n",
    "$$\\delta^{\\prime}_{137/135} = \\ln\\left(\\frac{r_{smp}^{137/135}}{R_{std}^{137/135}}\\right)\\times 1000$$\n",
    "\n",
    "From Eq. 48 in Rudge et al. (2009), we know that:\n",
    "\n",
    "$$\\delta^{\\prime}_{137/135} = \\alpha P_i\\times 1000$$\n",
    "\n",
    "We can then re-write:\n",
    "$$\\alpha = \\frac{1}{P_i}\\ln\\left(\\frac{r_{smp}^{137/135}}{R_{std}^{137/135}}\\right)$$\n",
    "\n",
    "As such, the uncertainty on $\\alpha$ if both $r_{smp}$ and $R_{std}$ have errors can be written as:\n",
    "$$\\sigma_{\\alpha} = \\frac{1}{P_i}\\sqrt{RSD_{r_{smp}}^2+RSD_{R_{std}}^2}$$"
   ]
  },
  {
   "cell_type": "code",
   "execution_count": 21,
   "metadata": {},
   "outputs": [
    {
     "name": "stdout",
     "output_type": "stream",
     "text": [
      "\n",
      "ans =\n",
      "\n",
      "   7.8164e-04\n",
      "\n"
     ]
    }
   ],
   "source": [
    "1/log(137/135)*hypot(RSD_75,RSD_75Std)"
   ]
  },
  {
   "cell_type": "markdown",
   "metadata": {},
   "source": [
    "We can then check if this is close the error estimate that we get from `errorwsplit.m` assuming the same sample amount and measurement parameters:"
   ]
  },
  {
   "cell_type": "code",
   "execution_count": 22,
   "metadata": {},
   "outputs": [
    {
     "name": "stdout",
     "output_type": "stream",
     "text": [
      "\n",
      "ans =\n",
      "\n",
      "   9.2459e-04\n",
      "\n"
     ]
    }
   ],
   "source": [
    "errorwsplit('Ba',0.5,0.5,spike,isoinv,INisos)"
   ]
  },
  {
   "cell_type": "markdown",
   "metadata": {},
   "source": [
    "Note the similarities in the estimated uncertainties. Next, we examine if changing the internal normalization scheme for processing the data leads to a similar increase in uncertainty as predicted by `errorwsplit.m`. "
   ]
  },
  {
   "cell_type": "markdown",
   "metadata": {},
   "source": [
    "### 1.4. Effect of normalization\n",
    "\n",
    "Here, we test what happens when we choose a different normalization for the same data set. Here, we normalize to the $^{134}Ba/^{135}Ba$ ratio."
   ]
  },
  {
   "cell_type": "code",
   "execution_count": 23,
   "metadata": {},
   "outputs": [],
   "source": [
    "% Specifying internal normalization ratio and calculating this ratio per cycle\n",
    "INisos=[134 135];\n",
    "INisos=ISODATA.Ba.isoindex(INisos);\n",
    "\n",
    "% Calculating all ratios - using the same denominator as in ratisos\n",
    "R=standardv./standardv(:,INisos(2));\n",
    "\n",
    "% Calculating ratios used for internal normalization\n",
    "R_samp=standardv(:,INisos(1))./standardv(:,INisos(2));\n",
    "\n",
    "INrat_ref=ISODATA.(element).standard(INisos(1))/ISODATA.(element).standard(INisos(2)); %reference ratio\n",
    "massrat_ref=P(1,INisos(1)); %ln(m_j/m_k)\n",
    "\n",
    "% Calculating zeta\n",
    "zeta=(log(R_samp./INrat_ref))/massrat_ref;\n",
    "zeta=repmat(zeta,1,ISODATA.(element).nisos);\n",
    "\n",
    "% Matrix of P_i vals\n",
    "P_mat=repmat(P,length(R),1);\n",
    "\n",
    "% Calculating internally normalized ratios\n",
    "RIN=R.*exp(-P_mat.*zeta); "
   ]
  },
  {
   "cell_type": "code",
   "execution_count": 24,
   "metadata": {},
   "outputs": [
    {
     "name": "stdout",
     "output_type": "stream",
     "text": [
      "\n",
      "RSD_75Std =\n",
      "\n",
      "   3.7078e-05\n",
      "\n"
     ]
    }
   ],
   "source": [
    "Ba_75_1SD=std(RIN(:,ratisos(1)))/sqrt(cycles); %1SD\n",
    "RSD_75Std=Ba_75_1SD/mean(RIN(:,ratisos(1)))"
   ]
  },
  {
   "cell_type": "markdown",
   "metadata": {},
   "source": [
    "Notice that the RSD on the $^{137}Ba/^{135}Ba$ ratio is almost an order of magnitude higher - this makes sense, given that we are using a less abundant isotope in $^{134}Ba$ for normalization, which would have a larger uncertainty from shot noise. \n",
    "\n",
    "Re-preforming the propagation on $\\sigma_{\\alpha}$:"
   ]
  },
  {
   "cell_type": "code",
   "execution_count": 25,
   "metadata": {},
   "outputs": [
    {
     "name": "stdout",
     "output_type": "stream",
     "text": [
      "\n",
      "ans =\n",
      "\n",
      "    0.0026\n",
      "\n"
     ]
    }
   ],
   "source": [
    "1/log(137/135)*hypot(RSD_75,RSD_75Std)"
   ]
  },
  {
   "cell_type": "code",
   "execution_count": 26,
   "metadata": {},
   "outputs": [
    {
     "name": "stdout",
     "output_type": "stream",
     "text": [
      "\n",
      "ans =\n",
      "\n",
      "    0.0024\n",
      "\n"
     ]
    }
   ],
   "source": [
    "errorwsplit('Ba',0.5,0.5,spike,isoinv,INisos)"
   ]
  },
  {
   "cell_type": "markdown",
   "metadata": {},
   "source": [
    "Below, we can also plot the values for the non-normalized ratios (`R`) vs. that of the internally-normalized ratios (`RIN`). Notice the larger variance for the latter. "
   ]
  },
  {
   "cell_type": "code",
   "execution_count": 27,
   "metadata": {},
   "outputs": [
    {
     "data": {
      "image/png": "[encoded data removed]",
      "text/plain": [
       "<IPython.core.display.Image object>"
      ]
     },
     "metadata": {},
     "output_type": "display_data"
    }
   ],
   "source": [
    "plot(1:length(R),R(:,ratisos(1)))\n",
    "hold on\n",
    "plot(1:length(RIN),RIN(:,ratisos(1)))\n",
    "hold off\n",
    "legend('Non-normalized','Internally-normalized')"
   ]
  },
  {
   "cell_type": "markdown",
   "metadata": {},
   "source": [
    "## 2. Comparison with Hu & Dauphas (2017)\n",
    "\n",
    "Here, we compare the estimated uncertainties associated with correcitng for the offsets introduced by isotope anomalies on the resulting value for $\\alpha$.\n",
    "\n",
    "### 2.1. Barium\n",
    "\n",
    "Here, we use the 130-137 spike combination presecribed by the `cosmo.m` function (~49%-51% of $^{130}Ba$ and $^{135}Ba$ ORNL spikes, respectively), with a 50% splitting and 50% spike proportion. "
   ]
  },
  {
   "cell_type": "code",
   "execution_count": 2,
   "metadata": {},
   "outputs": [
    {
     "name": "stdout",
     "output_type": "stream",
     "text": [
      "Welcome to the double spike toolbox.    John F. Rudge 2009-2022.\n",
      "Default parameters are stored in the global variable ISODATA.\n",
      "Type \"global ISODATA\" to access and set these parameters.\n"
     ]
    }
   ],
   "source": [
    "cd ..\n",
    "dsstartup;\n",
    "global ISODATA;"
   ]
  },
  {
   "cell_type": "code",
   "execution_count": 4,
   "metadata": {},
   "outputs": [],
   "source": [
    "% INPUT parameters\n",
    "element='Ba';\n",
    "prop=0.5;\n",
    "split=0.5;\n",
    "spike=[0.182797 0.004525 0.017545 0.031156 0.030334 0.452349 0.281295];\n",
    "cycles=40;\n",
    "\n",
    "deltat=8; % seconds\n",
    "R_ref=1e11; % ohms\n",
    "R=[1e11 1e11 1e11 1e11 1e11 1e11 1e11; 1e11 1e11 1e11 1e11 1e11 1e11 1e11];\n",
    "     \n",
    "sample=1; % ng\n",
    "     \n",
    "effIC = 0.01; % ionization efficiency of the IC measurement\n",
    "effID = 0.01; % ionization efficiency of the ID measurement\n",
    "T     = 300; % temperature of the resistor/faraday cup; in Kelvin\n",
    "\n",
    "shake(element,sample,[effIC effID],[cycles cycles],R,R_ref,T,deltat)"
   ]
  },
  {
   "cell_type": "markdown",
   "metadata": {},
   "source": [
    "We then check the equivalent voltage with these parameters."
   ]
  },
  {
   "cell_type": "code",
   "execution_count": 6,
   "metadata": {},
   "outputs": [
    {
     "name": "stdout",
     "output_type": "stream",
     "text": [
      "\n",
      "ans =\n",
      "\n",
      "   8.7825e+03\n",
      "\n"
     ]
    }
   ],
   "source": [
    "ISODATA.Ba.errormodel.V100"
   ]
  },
  {
   "cell_type": "markdown",
   "metadata": {},
   "source": [
    "With the expected splitting, ionization efficiency, and number of cycles, we can calculate the expect voltage per integration:"
   ]
  },
  {
   "cell_type": "code",
   "execution_count": 8,
   "metadata": {},
   "outputs": [
    {
     "name": "stdout",
     "output_type": "stream",
     "text": [
      "\n",
      "V =\n",
      "\n",
      "    1.0978\n",
      "\n"
     ]
    }
   ],
   "source": [
    "V=ISODATA.Ba.errormodel.V100*split*effID/cycles"
   ]
  },
  {
   "cell_type": "code",
   "execution_count": 116,
   "metadata": {},
   "outputs": [
    {
     "name": "stdout",
     "output_type": "stream",
     "text": [
      "\n",
      "ans =\n",
      "\n",
      "    0.0044\n",
      "\n"
     ]
    }
   ],
   "source": [
    "errorwsplit('Ba',split,prop,spike,[130 135 137 138])"
   ]
  },
  {
   "cell_type": "markdown",
   "metadata": {},
   "source": [
    "We can then use this as the voltage for estimating the uncertainty for the double spike measurement without accounting for the uncertainty on any unspiked measurement:"
   ]
  },
  {
   "cell_type": "code",
   "execution_count": 9,
   "metadata": {},
   "outputs": [
    {
     "name": "stdout",
     "output_type": "stream",
     "text": [
      "Welcome to the double spike toolbox.    John F. Rudge 2009-2022.\n",
      "Default parameters are stored in the global variable ISODATA.\n",
      "Type \"global ISODATA\" to access and set these parameters.\n",
      "\n",
      "ID =\n",
      "\n",
      "    0.0021\n",
      "\n"
     ]
    }
   ],
   "source": [
    "% resetting and removing the parameters from shake\n",
    "dsstartup;\n",
    "global ISODATA;\n",
    "ISODATA.Ba.errormodel.measured.type='fixed-sample';\n",
    "\n",
    "ISODATA.Ba.errormodel.measured.intensity = V;\n",
    "ID=errorestimate('Ba',prop,spike,[130 135 137 138])/sqrt(cycles)"
   ]
  },
  {
   "cell_type": "markdown",
   "metadata": {},
   "source": [
    "Next, we calculate the additional uncertainty from the unspiked measurement according to the formula from Hu and Dauphas (2017):"
   ]
  },
  {
   "cell_type": "code",
   "execution_count": 16,
   "metadata": {},
   "outputs": [
    {
     "name": "stdout",
     "output_type": "stream",
     "text": [
      "\n",
      "IC =\n",
      "\n",
      "    0.0036\n",
      "\n"
     ]
    }
   ],
   "source": [
    "% re-introducing the additional parameters from shake\n",
    "shake(element,sample,[effIC effID],[cycles cycles],R,R_ref,T,deltat)\n",
    "\n",
    "% here, we use a normalization to the 134/138 ratio\n",
    "IC=addederror('Ba',split,prop,spike,[130 135 137 138],[134 138])"
   ]
  },
  {
   "cell_type": "markdown",
   "metadata": {},
   "source": [
    "The total uncertainty on $\\alpha$ is then the quadratic sum of the ID and IC measurement uncertainties:"
   ]
  },
  {
   "cell_type": "code",
   "execution_count": 12,
   "metadata": {},
   "outputs": [
    {
     "name": "stdout",
     "output_type": "stream",
     "text": [
      "\n",
      "sigma_alpha =\n",
      "\n",
      "    0.0042\n",
      "\n"
     ]
    }
   ],
   "source": [
    "sigma_alpha=hypot(ID,IC)"
   ]
  },
  {
   "cell_type": "markdown",
   "metadata": {},
   "source": [
    "We can then compare this result to the estimate using `errorwsplit.m` directly:"
   ]
  },
  {
   "cell_type": "code",
   "execution_count": 13,
   "metadata": {},
   "outputs": [
    {
     "name": "stdout",
     "output_type": "stream",
     "text": [
      "\n",
      "ans =\n",
      "\n",
      "    0.0043\n",
      "\n"
     ]
    }
   ],
   "source": [
    "errorwsplit('Ba',split,prop,spike,[130 135 137 138],[134 138])"
   ]
  },
  {
   "cell_type": "markdown",
   "metadata": {},
   "source": [
    "The uncertainties are almost exactly the same. We can try a different normalization scheme to check."
   ]
  },
  {
   "cell_type": "code",
   "execution_count": 23,
   "metadata": {},
   "outputs": [
    {
     "name": "stdout",
     "output_type": "stream",
     "text": [
      "\n",
      "IC2 =\n",
      "\n",
      "    0.0317\n",
      "\n",
      "\n",
      "sigma_alpha2 =\n",
      "\n",
      "    0.0318\n",
      "\n"
     ]
    }
   ],
   "source": [
    "IC2=addederror('Ba',split,prop,spike,[130 135 137 138],[138 130])\n",
    "sigma_alpha2=hypot(ID,IC2)"
   ]
  },
  {
   "cell_type": "code",
   "execution_count": 24,
   "metadata": {},
   "outputs": [
    {
     "name": "stdout",
     "output_type": "stream",
     "text": [
      "\n",
      "ans =\n",
      "\n",
      "    0.0333\n",
      "\n"
     ]
    }
   ],
   "source": [
    "errorwsplit('Ba',split,prop,spike,[130 135 137 138],[138 130])"
   ]
  }
 ],
 "metadata": {
  "kernelspec": {
   "display_name": "Matlab",
   "language": "matlab",
   "name": "matlab"
  },
  "language_info": {
   "codemirror_mode": "octave",
   "file_extension": ".m",
   "help_links": [
    {
     "text": "MetaKernel Magics",
     "url": "https://metakernel.readthedocs.io/en/latest/source/README.html"
    }
   ],
   "mimetype": "text/x-octave",
   "name": "matlab",
   "version": "0.16.9"
  }
 },
 "nbformat": 4,
 "nbformat_minor": 4
}
